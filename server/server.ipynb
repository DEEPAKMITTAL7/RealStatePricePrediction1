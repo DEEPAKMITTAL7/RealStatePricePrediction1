{
 "cells": [
  {
   "cell_type": "code",
   "execution_count": 1,
   "id": "2ea77f37",
   "metadata": {},
   "outputs": [
    {
     "name": "stdout",
     "output_type": "stream",
     "text": [
      "python flask started\n"
     ]
    },
    {
     "ename": "TypeError",
     "evalue": "serve() missing 1 required positional argument: 'app'",
     "output_type": "error",
     "traceback": [
      "\u001b[1;31m---------------------------------------------------------------------------\u001b[0m",
      "\u001b[1;31mTypeError\u001b[0m                                 Traceback (most recent call last)",
      "Input \u001b[1;32mIn [1]\u001b[0m, in \u001b[0;36m<cell line: 40>\u001b[1;34m()\u001b[0m\n\u001b[0;32m     41\u001b[0m \u001b[38;5;28mprint\u001b[39m(\u001b[38;5;124m'\u001b[39m\u001b[38;5;124mpython flask started\u001b[39m\u001b[38;5;124m'\u001b[39m)\n\u001b[0;32m     42\u001b[0m \u001b[38;5;66;03m#app.run()\u001b[39;00m\n\u001b[1;32m---> 43\u001b[0m \u001b[43mserve\u001b[49m\u001b[43m(\u001b[49m\u001b[43m)\u001b[49m\n",
      "\u001b[1;31mTypeError\u001b[0m: serve() missing 1 required positional argument: 'app'"
     ]
    }
   ],
   "source": [
    "from flask import Flask, request, jsonify\n",
    "from waitress import serve\n",
    "import util\n",
    "#%run util.ipynb\n",
    "\n",
    "app = Flask(__name__)\n",
    "\n",
    "@app.route('/locations')\n",
    "def locations():\n",
    "    \n",
    "    response = jsonify({\n",
    "        'locations' : util.locations()\n",
    "    })\n",
    "    response.headers.add('Access-Control-Allow-Origin','*')\n",
    "    \n",
    "    return response\n",
    "\n",
    "@app.route('/')\n",
    "def hello():\n",
    "    return hello\n",
    "\n",
    "\n",
    "@app.route('/predict_home_price',methods=['POST'])\n",
    "def predict_home_price():\n",
    "    total_sqft = float(request.files['total_sqft'])\n",
    "    location = request.files['location']\n",
    "    size = int(request.files['size'])\n",
    "    bath = int(request.files['bath'])\n",
    "    area_type = request.files['area_type']\n",
    "    balcony = int(request.files['balcony'])\n",
    "    \n",
    "    response = jsonify({\n",
    "        'estimated_price': util.get_estimated_price(area_type,location,size,total_sqft,bath,balcony)\n",
    "    })\n",
    "    \n",
    "    response.headers.add('Access-Control-Allow-Origin','*')\n",
    "    \n",
    "    return response\n",
    "\n",
    "if __name__ == '__main__':\n",
    "    print('python flask started')\n",
    "    #app.run()\n",
    "    serve()"
   ]
  },
  {
   "cell_type": "code",
   "execution_count": null,
   "id": "179243c9",
   "metadata": {},
   "outputs": [],
   "source": []
  }
 ],
 "metadata": {
  "kernelspec": {
   "display_name": "Python 3 (ipykernel)",
   "language": "python",
   "name": "python3"
  },
  "language_info": {
   "codemirror_mode": {
    "name": "ipython",
    "version": 3
   },
   "file_extension": ".py",
   "mimetype": "text/x-python",
   "name": "python",
   "nbconvert_exporter": "python",
   "pygments_lexer": "ipython3",
   "version": "3.10.4"
  }
 },
 "nbformat": 4,
 "nbformat_minor": 5
}
